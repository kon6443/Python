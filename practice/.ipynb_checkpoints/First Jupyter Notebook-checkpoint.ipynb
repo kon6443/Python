{
 "cells": [
  {
   "cell_type": "code",
   "execution_count": 1,
   "metadata": {},
   "outputs": [
    {
     "ename": "SyntaxError",
     "evalue": "invalid syntax (<ipython-input-1-20e0fb702108>, line 1)",
     "output_type": "error",
     "traceback": [
      "\u001b[0;36m  File \u001b[0;32m\"<ipython-input-1-20e0fb702108>\"\u001b[0;36m, line \u001b[0;32m1\u001b[0m\n\u001b[0;31m    print(hello world!)\u001b[0m\n\u001b[0m                ^\u001b[0m\n\u001b[0;31mSyntaxError\u001b[0m\u001b[0;31m:\u001b[0m invalid syntax\n"
     ]
    }
   ],
   "source": [
    "print(hello world!)"
   ]
  },
  {
   "cell_type": "code",
   "execution_count": 2,
   "metadata": {},
   "outputs": [
    {
     "name": "stdout",
     "output_type": "stream",
     "text": [
      "Hello World!\n"
     ]
    }
   ],
   "source": [
    "print(\"Hello World!\")"
   ]
  },
  {
   "cell_type": "code",
   "execution_count": 13,
   "metadata": {
    "scrolled": true
   },
   "outputs": [
    {
     "name": "stdout",
     "output_type": "stream",
     "text": [
      "<h1 id=\"fixed-bar-logo-title\">\n",
      "<a href=\"https://www.daangn.com/\">\n",
      "<span class=\"sr-only\">당근마켓</span>\n",
      "<img alt=\"당근마켓\" class=\"fixed-logo\" src=\"https://d1unjqcospf8gs.cloudfront.net/assets/home/base/header/logo-basic-24b18257ac4ef693c02233bf21e9cb7ecbf43ebd8d5b40c24d99e14094a44c81.svg\"/>\n",
      "</a> </h1>\n"
     ]
    }
   ],
   "source": [
    "import requests\n",
    "from bs4 import BeautifulSoup\n",
    "\n",
    "webpage = requests.get(\"https://www.daangn.com/hot_articles\")\n",
    "soup = BeautifulSoup(webpage.content, \"html.parser\")\n",
    "\n",
    "print(soup.h1)"
   ]
  },
  {
   "cell_type": "code",
   "execution_count": 30,
   "metadata": {
    "scrolled": true
   },
   "outputs": [
    {
     "name": "stdout",
     "output_type": "stream",
     "text": [
      "####################\n",
      "<ul class=\"footer-list\">\n",
      "<li class=\"footer-list-item\"><a class=\"link-highlight\" href=\"/trust\">믿을 수 있는 중고거래</a></li>\n",
      "<li class=\"footer-list-item\"><a class=\"link-highlight\" href=\"/wv/faqs\">자주 묻는 질문</a></li>\n",
      "</ul>\n",
      "####################\n",
      "\n",
      "\n",
      "<li class=\"footer-list-item\"><a class=\"link-highlight\" href=\"/trust\">믿을 수 있는 중고거래</a></li>\n",
      "\n",
      "\n",
      "<li class=\"footer-list-item\"><a class=\"link-highlight\" href=\"/wv/faqs\">자주 묻는 질문</a></li>\n",
      "\n",
      "\n",
      "####################\n",
      "\n",
      "\n",
      "<h1 id=\"fixed-bar-logo-title\">\n",
      "<a href=\"https://www.daangn.com/\">\n",
      "<span class=\"sr-only\">당근마켓</span>\n",
      "<img alt=\"당근마켓\" class=\"fixed-logo\" src=\"https://d1unjqcospf8gs.cloudfront.net/assets/home/base/header/logo-basic-24b18257ac4ef693c02233bf21e9cb7ecbf43ebd8d5b40c24d99e14094a44c81.svg\"/>\n",
      "</a> </h1>\n",
      "\n",
      "\n",
      "<section id=\"fixed-bar-search\">\n",
      "<div class=\"search-input-wrap\">\n",
      "<span class=\"sr-only\">검색</span>\n",
      "<input class=\"fixed-search-input\" id=\"header-search-input\" name=\"header-search-input\" placeholder=\"동네 이름, 물품명 등을 검색해보세요!\" type=\"text\"/>\n",
      "<button id=\"header-search-button\">\n",
      "<img alt=\"Search\" class=\"fixed-search-icon\" src=\"https://d1unjqcospf8gs.cloudfront.net/assets/home/base/header/search-icon-7008edd4f9aaa32188f55e65258f1c1905d7a9d1a3ca2a07ae809b5535380f14.svg\"/>\n",
      "</button>\n",
      "</div>\n",
      "</section>\n",
      "\n",
      "\n",
      "<section id=\"fixed-bar-download\">\n",
      "<h3 class=\"hide\">다운로드</h3>\n",
      "<a class=\"fixed-download-button\" href=\"https://itunes.apple.com/kr/app/pangyojangteo/id1018769995?l=ko&amp;ls=1&amp;mt=8\" id=\"header-download-button-ios\" target=\"_blank\">\n",
      "<img alt=\"App Store\" class=\"fixed-apple-store\" src=\"https://d1unjqcospf8gs.cloudfront.net/assets/home/base/header/apple-store-3a664174124650d63cae365bc55586fc5ff27b822b1b97788fc4af77d73d00c8.svg\"/>\n",
      "<div class=\"fixed-download-text\">App Store</div>\n",
      "</a> <a class=\"fixed-download-button\" href=\"https://play.google.com/store/apps/details?id=com.towneers.www\" id=\"header-download-button-android\" target=\"_blank\">\n",
      "<img alt=\"Google Play\" class=\"fixed-google-play\" src=\"https://d1unjqcospf8gs.cloudfront.net/assets/home/base/header/google-play-c9ad0fc573cd01e2b982df5de6709a3d8d7cec8d9b58a5c08db7da0b92a32a75.svg\"/>\n",
      "<div class=\"fixed-download-text\">Google Play</div>\n",
      "</a> </section>\n",
      "\n",
      "\n"
     ]
    }
   ],
   "source": [
    "import requests\n",
    "from bs4 import BeautifulSoup\n",
    "\n",
    "webpage = requests.get(\"https://www.daangn.com/hot_articles\")\n",
    "soup = BeautifulSoup(webpage.content, \"html.parser\")\n",
    "\n",
    "\n",
    "print(\"####################\")\n",
    "print(soup.ul)\n",
    "print(\"####################\")\n",
    "for child in soup.ul.children:\n",
    "    print(child)\n",
    "print(\"####################\")\n",
    "for d in soup.div.children:\n",
    "    print(d)"
   ]
  },
  {
   "cell_type": "code",
   "execution_count": 40,
   "metadata": {},
   "outputs": [
    {
     "data": {
      "text/plain": [
       "[<ul class=\"footer-list\">\n",
       " <li class=\"footer-list-item\"><a class=\"link-highlight\" href=\"/trust\">믿을 수 있는 중고거래</a></li>\n",
       " <li class=\"footer-list-item\"><a class=\"link-highlight\" href=\"/wv/faqs\">자주 묻는 질문</a></li>\n",
       " </ul>,\n",
       " <ul class=\"footer-list\">\n",
       " <li class=\"footer-list-item\"><a href=\"http://team.daangn.com\" target=\"_blank\">회사 소개</a></li>\n",
       " <li class=\"footer-list-item\"><a class=\"link-highlight\" href=\"https://ad.daangn.com/\" target=\"_blank\">광고주센터</a></li>\n",
       " <li class=\"footer-list-item\">\n",
       " <a class=\"ga-click\" data-event-action=\"hot_articles\" data-event-category=\"town_link_from\" data-event-label=\"footer_town\" href=\"https://town.daangn.com\" target=\"_blank\">동네가게</a>\n",
       " </li>\n",
       " </ul>,\n",
       " <ul class=\"footer-list policy\">\n",
       " <li class=\"footer-list-item\"><a href=\"https://policy.daangn.com/terms.html\" target=\"_blank\">이용약관</a></li>\n",
       " <li class=\"footer-list-item\"><a href=\"https://policy.daangn.com/privacy.html\" target=\"_blank\">개인정보처리방침</a></li>\n",
       " <li class=\"footer-list-item\"><a href=\"https://policy.daangn.com/location.html\" target=\"_blank\">위치기반서비스 이용약관</a></li>\n",
       " </ul>,\n",
       " <ul class=\"copyright-list\">\n",
       " <li class=\"copyright-list-item\">고객문의 <a href=\"mailto:cs@daangnservice.com\">cs@daangnservice.com</a></li>\n",
       " <li class=\"copyright-list-item\">제휴문의 <a href=\"mailto:contact@daangn.com\">contact@daangn.com</a></li>\n",
       " </ul>,\n",
       " <ul class=\"copyright-list\">\n",
       " <li class=\"copyright-list-item\">지역광고 <a href=\"mailto:ad@daangn.com\">ad@daangn.com</a></li>\n",
       " <li class=\"copyright-list-item\">PR문의 <a href=\"mailto:pr@daangn.com\">pr@daangn.com</a></li>\n",
       " </ul>,\n",
       " <ul class=\"copyright-list copyright-list-light\">\n",
       " <li class=\"copyright-list-item\">사업자 등록번호 : 375-87-00088</li>\n",
       " <li class=\"copyright-list-item\"><address>서울특별시 구로구 디지털로 30길 28 609호</address></li>\n",
       " </ul>,\n",
       " <ul class=\"social-list\">\n",
       " <li class=\"social-list-item\">\n",
       " <a class=\"footer-social-link\" href=\"https://www.facebook.com/daangn\" target=\"_blank\">\n",
       " <img alt=\"facebook\" src=\"https://d1unjqcospf8gs.cloudfront.net/assets/home/base/footer/icon-facebook-0563f4a93852d073b41f13b8bcabb03d47af3bb3a6755cdfedd8a73686c7f18c.svg\"/>\n",
       " <span class=\"sr-only\">facebook</span>\n",
       " </a> </li>\n",
       " <li class=\"social-list-item\">\n",
       " <a class=\"footer-social-link\" href=\"https://www.instagram.com/daangnmarket/\" target=\"_blank\">\n",
       " <img alt=\"instagram\" src=\"https://d1unjqcospf8gs.cloudfront.net/assets/home/base/footer/icon-instagram-2f6c88a461597907c114b7ce28eab053fcae791ed26417915fefb6f7c9f95756.svg\"/>\n",
       " <span class=\"sr-only\">instagram</span>\n",
       " </a> </li>\n",
       " <li class=\"social-list-item\">\n",
       " <a class=\"footer-social-link\" href=\"https://blog.naver.com/daangn\" target=\"_blank\">\n",
       " <img alt=\"blog\" src=\"https://d1unjqcospf8gs.cloudfront.net/assets/home/base/footer/icon-blog-e1b0d512d1766a6962ec5bbb5b0803d2a6a9c55ad97db5ba9eebb76013caceba.svg\"/>\n",
       " <span class=\"sr-only\">blog</span>\n",
       " </a> </li>\n",
       " </ul>]"
      ]
     },
     "execution_count": 40,
     "metadata": {},
     "output_type": "execute_result"
    }
   ],
   "source": [
    "import requests\n",
    "from bs4 import BeautifulSoup\n",
    "\n",
    "webpage = requests.get(\"https://www.daangn.com/hot_articles\")\n",
    "soup = BeautifulSoup(webpage.content, \"html.parser\")\n",
    "\n",
    "soup.find_all(re.compile(\"[ou]l\"))"
   ]
  },
  {
   "cell_type": "code",
   "execution_count": null,
   "metadata": {},
   "outputs": [],
   "source": []
  }
 ],
 "metadata": {
  "kernelspec": {
   "display_name": "Python 3",
   "language": "python",
   "name": "python3"
  },
  "language_info": {
   "codemirror_mode": {
    "name": "ipython",
    "version": 3
   },
   "file_extension": ".py",
   "mimetype": "text/x-python",
   "name": "python",
   "nbconvert_exporter": "python",
   "pygments_lexer": "ipython3",
   "version": "3.8.5"
  }
 },
 "nbformat": 4,
 "nbformat_minor": 4
}
